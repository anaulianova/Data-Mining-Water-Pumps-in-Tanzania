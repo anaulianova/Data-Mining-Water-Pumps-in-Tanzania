{
 "cells": [
  {
   "cell_type": "code",
   "execution_count": 1,
   "metadata": {},
   "outputs": [],
   "source": [
    "#Import relevant libraries\n",
    "import pandas as pd\n",
    "import numpy as np\n",
    "\n",
    "\n",
    "from sklearn.neighbors import KNeighborsClassifier\n",
    "from sklearn.ensemble import RandomForestClassifier\n",
    "from sklearn.model_selection import train_test_split, GridSearchCV\n",
    "from sklearn.preprocessing import StandardScaler\n",
    "from sklearn.metrics import classification_report\n",
    "from sklearn.metrics import confusion_matrix, plot_confusion_matrix\n",
    "from sklearn.metrics import precision_score, recall_score, accuracy_score, f1_score\n",
    "from imblearn.over_sampling import SMOTE\n",
    "\n",
    "import matplotlib.pyplot as plt\n",
    "%matplotlib inline"
   ]
  },
  {
   "cell_type": "markdown",
   "metadata": {},
   "source": [
    "### Define useful functions"
   ]
  },
  {
   "cell_type": "code",
   "execution_count": 2,
   "metadata": {},
   "outputs": [],
   "source": [
    "#Define Function to compare accuracy scores\n",
    "def accuracy_comp(y_train, p_train, y_test, p_test):\n",
    "    \"\"\"This function compares the accuracy scores of train and test sets\n",
    "    predictions\"\"\"\n",
    "    \n",
    "    train_accuracy = accuracy_score(y_train, p_train)\n",
    "    test_accuracy = accuracy_score(y_test, p_test)\n",
    "        \n",
    "    print(f\"Training Accuracy: {(train_accuracy * 100):.4}%\")\n",
    "    print(f\"Test Accuracy:     {(test_accuracy * 100):.4}%\")\n",
    "    "
   ]
  },
  {
   "cell_type": "markdown",
   "metadata": {},
   "source": [
    "### Import Datasets"
   ]
  },
  {
   "cell_type": "code",
   "execution_count": 3,
   "metadata": {
    "scrolled": false
   },
   "outputs": [
    {
     "data": {
      "text/html": "<div>\n<style scoped>\n    .dataframe tbody tr th:only-of-type {\n        vertical-align: middle;\n    }\n\n    .dataframe tbody tr th {\n        vertical-align: top;\n    }\n\n    .dataframe thead th {\n        text-align: right;\n    }\n</style>\n<table border=\"1\" class=\"dataframe\">\n  <thead>\n    <tr style=\"text-align: right;\">\n      <th></th>\n      <th>id</th>\n      <th>status_group</th>\n      <th>amount_tsh</th>\n      <th>funder</th>\n      <th>gps_height</th>\n      <th>installer</th>\n      <th>longitude</th>\n      <th>latitude</th>\n      <th>wpt_name</th>\n      <th>basin</th>\n      <th>...</th>\n      <th>extraction_type</th>\n      <th>extraction_type_class</th>\n      <th>management</th>\n      <th>management_group</th>\n      <th>payment</th>\n      <th>water_quality</th>\n      <th>quantity_group</th>\n      <th>source</th>\n      <th>source_class</th>\n      <th>waterpoint_type</th>\n    </tr>\n  </thead>\n  <tbody>\n    <tr>\n      <th>0</th>\n      <td>69572</td>\n      <td>functional</td>\n      <td>6000.0</td>\n      <td>Roman</td>\n      <td>1390</td>\n      <td>Roman</td>\n      <td>34.938093</td>\n      <td>-9.856322</td>\n      <td>none</td>\n      <td>Lake Nyasa</td>\n      <td>...</td>\n      <td>gravity</td>\n      <td>gravity</td>\n      <td>vwc</td>\n      <td>user-group</td>\n      <td>pay annually</td>\n      <td>soft</td>\n      <td>enough</td>\n      <td>spring</td>\n      <td>groundwater</td>\n      <td>communal standpipe</td>\n    </tr>\n    <tr>\n      <th>1</th>\n      <td>8776</td>\n      <td>functional</td>\n      <td>0.0</td>\n      <td>Grumeti</td>\n      <td>1399</td>\n      <td>Grumeti</td>\n      <td>34.698766</td>\n      <td>-2.147466</td>\n      <td>Zahanati</td>\n      <td>Lake Victoria</td>\n      <td>...</td>\n      <td>gravity</td>\n      <td>gravity</td>\n      <td>wug</td>\n      <td>user-group</td>\n      <td>never pay</td>\n      <td>soft</td>\n      <td>insufficient</td>\n      <td>rainwater harvesting</td>\n      <td>surface</td>\n      <td>communal standpipe</td>\n    </tr>\n    <tr>\n      <th>2</th>\n      <td>34310</td>\n      <td>functional</td>\n      <td>25.0</td>\n      <td>Lottery Club</td>\n      <td>686</td>\n      <td>World Vision</td>\n      <td>37.460664</td>\n      <td>-3.821329</td>\n      <td>Kwa Mahundi</td>\n      <td>Pangani</td>\n      <td>...</td>\n      <td>gravity</td>\n      <td>gravity</td>\n      <td>vwc</td>\n      <td>user-group</td>\n      <td>pay per bucket</td>\n      <td>soft</td>\n      <td>enough</td>\n      <td>dam</td>\n      <td>surface</td>\n      <td>communal standpipe multiple</td>\n    </tr>\n    <tr>\n      <th>3</th>\n      <td>67743</td>\n      <td>non functional</td>\n      <td>0.0</td>\n      <td>Unicef</td>\n      <td>263</td>\n      <td>Unicef</td>\n      <td>38.486161</td>\n      <td>-11.155298</td>\n      <td>Zahanati Ya Nanyumbu</td>\n      <td>Ruvuma / Southern Coast</td>\n      <td>...</td>\n      <td>submersible</td>\n      <td>submersible</td>\n      <td>vwc</td>\n      <td>user-group</td>\n      <td>never pay</td>\n      <td>soft</td>\n      <td>dry</td>\n      <td>machine dbh</td>\n      <td>groundwater</td>\n      <td>communal standpipe multiple</td>\n    </tr>\n    <tr>\n      <th>4</th>\n      <td>19728</td>\n      <td>functional</td>\n      <td>0.0</td>\n      <td>Action In A</td>\n      <td>0</td>\n      <td>Artisan</td>\n      <td>31.130847</td>\n      <td>-1.825359</td>\n      <td>Shuleni</td>\n      <td>Lake Victoria</td>\n      <td>...</td>\n      <td>gravity</td>\n      <td>gravity</td>\n      <td>other</td>\n      <td>other</td>\n      <td>never pay</td>\n      <td>soft</td>\n      <td>seasonal</td>\n      <td>rainwater harvesting</td>\n      <td>surface</td>\n      <td>communal standpipe</td>\n    </tr>\n  </tbody>\n</table>\n<p>5 rows × 31 columns</p>\n</div>",
      "text/plain": "      id    status_group  amount_tsh        funder  gps_height     installer  \\\n0  69572      functional      6000.0         Roman        1390         Roman   \n1   8776      functional         0.0       Grumeti        1399       Grumeti   \n2  34310      functional        25.0  Lottery Club         686  World Vision   \n3  67743  non functional         0.0        Unicef         263        Unicef   \n4  19728      functional         0.0   Action In A           0       Artisan   \n\n   longitude   latitude              wpt_name                    basin  ...  \\\n0  34.938093  -9.856322                  none               Lake Nyasa  ...   \n1  34.698766  -2.147466              Zahanati            Lake Victoria  ...   \n2  37.460664  -3.821329           Kwa Mahundi                  Pangani  ...   \n3  38.486161 -11.155298  Zahanati Ya Nanyumbu  Ruvuma / Southern Coast  ...   \n4  31.130847  -1.825359               Shuleni            Lake Victoria  ...   \n\n  extraction_type extraction_type_class  management  management_group  \\\n0         gravity               gravity         vwc        user-group   \n1         gravity               gravity         wug        user-group   \n2         gravity               gravity         vwc        user-group   \n3     submersible           submersible         vwc        user-group   \n4         gravity               gravity       other             other   \n\n          payment water_quality  quantity_group                source  \\\n0    pay annually          soft          enough                spring   \n1       never pay          soft    insufficient  rainwater harvesting   \n2  pay per bucket          soft          enough                   dam   \n3       never pay          soft             dry           machine dbh   \n4       never pay          soft        seasonal  rainwater harvesting   \n\n  source_class              waterpoint_type  \n0  groundwater           communal standpipe  \n1      surface           communal standpipe  \n2      surface  communal standpipe multiple  \n3  groundwater  communal standpipe multiple  \n4      surface           communal standpipe  \n\n[5 rows x 31 columns]"
     },
     "execution_count": 3,
     "metadata": {},
     "output_type": "execute_result"
    }
   ],
   "source": [
    "# 1) Import Training Data\n",
    "df = pd.read_csv('Data/data_for_modeling.csv')\n",
    "df.head()"
   ]
  },
  {
   "cell_type": "code",
   "execution_count": 4,
   "metadata": {
    "scrolled": true
   },
   "outputs": [
    {
     "data": {
      "text/plain": [
       "Index(['id', 'status_group', 'amount_tsh', 'funder', 'gps_height', 'installer',\n",
       "       'longitude', 'latitude', 'wpt_name', 'basin', 'subvillage', 'region',\n",
       "       'region_code', 'district_code', 'lga', 'ward', 'population',\n",
       "       'public_meeting', 'scheme_management', 'permit', 'construction_year',\n",
       "       'extraction_type', 'extraction_type_class', 'management',\n",
       "       'management_group', 'payment', 'water_quality', 'quantity_group',\n",
       "       'source', 'source_class', 'waterpoint_type'],\n",
       "      dtype='object')"
      ]
     },
     "execution_count": 4,
     "metadata": {},
     "output_type": "execute_result"
    }
   ],
   "source": [
    "#Check Column names\n",
    "df.columns"
   ]
  },
  {
   "cell_type": "markdown",
   "metadata": {},
   "source": [
    "### Preping the Data"
   ]
  },
  {
   "cell_type": "code",
   "execution_count": 5,
   "metadata": {},
   "outputs": [],
   "source": [
    "#Create new dataframe for modeling\n",
    "#Drop uninteresting columns\n",
    "dfmod = df.drop(['id', 'status_group', 'wpt_name'], axis = 1)"
   ]
  },
  {
   "cell_type": "code",
   "execution_count": 6,
   "metadata": {},
   "outputs": [],
   "source": [
    "#Define target\n",
    "target = df['status_group']"
   ]
  },
  {
   "cell_type": "code",
   "execution_count": 7,
   "metadata": {},
   "outputs": [],
   "source": [
    "#Defining categorical and cntinuous features\n",
    "con_feats = ['amount_tsh', 'gps_height', 'longitude', 'latitude', \n",
    "            'population', 'construction_year']\n",
    "cat_feats = list(dfmod.drop(con_feats, axis = 1).columns)"
   ]
  },
  {
   "cell_type": "code",
   "execution_count": 8,
   "metadata": {},
   "outputs": [
    {
     "name": "stdout",
     "output_type": "stream",
     "text": [
      "['basin', 'region', 'region_code', 'district_code', 'lga', 'public_meeting', 'scheme_management', 'permit', 'extraction_type', 'extraction_type_class', 'management', 'management_group', 'payment', 'water_quality', 'quantity_group', 'source', 'source_class', 'waterpoint_type']\n"
     ]
    }
   ],
   "source": [
    "#Drop categorical features with too many unique values\n",
    "to_remove = ['funder', 'installer', 'subvillage', 'ward']\n",
    "for label in to_remove:\n",
    "    cat_feats.remove(label)\n",
    "\n",
    "#Check list\n",
    "print(cat_feats)"
   ]
  },
  {
   "cell_type": "code",
   "execution_count": 9,
   "metadata": {},
   "outputs": [
    {
     "data": {
      "text/plain": [
       "(59400, 240)"
      ]
     },
     "execution_count": 9,
     "metadata": {},
     "output_type": "execute_result"
    }
   ],
   "source": [
    "#Create dummy variables\n",
    "dummy = pd.get_dummies(df[cat_feats], drop_first = True)\n",
    "dummy.shape"
   ]
  },
  {
   "cell_type": "code",
   "execution_count": 10,
   "metadata": {
    "scrolled": false
   },
   "outputs": [
    {
     "name": "stdout",
     "output_type": "stream",
     "text": [
      "<class 'pandas.core.frame.DataFrame'>\n",
      "RangeIndex: 59400 entries, 0 to 59399\n",
      "Columns: 246 entries, amount_tsh to waterpoint_type_other\n",
      "dtypes: bool(2), float64(3), int64(5), uint8(236)\n",
      "memory usage: 17.1 MB\n"
     ]
    }
   ],
   "source": [
    "#Finalise dfmod for modeling\n",
    "dfmod.drop(cat_feats, axis = 1, inplace = True)\n",
    "dfmod.drop(to_remove, axis = 1, inplace = True)\n",
    "\n",
    "dfmod = pd.concat ([dfmod, dummy], axis = 1)\n",
    "dfmod.info()"
   ]
  },
  {
   "cell_type": "code",
   "execution_count": 11,
   "metadata": {},
   "outputs": [
    {
     "data": {
      "text/html": [
       "<div>\n",
       "<style scoped>\n",
       "    .dataframe tbody tr th:only-of-type {\n",
       "        vertical-align: middle;\n",
       "    }\n",
       "\n",
       "    .dataframe tbody tr th {\n",
       "        vertical-align: top;\n",
       "    }\n",
       "\n",
       "    .dataframe thead th {\n",
       "        text-align: right;\n",
       "    }\n",
       "</style>\n",
       "<table border=\"1\" class=\"dataframe\">\n",
       "  <thead>\n",
       "    <tr style=\"text-align: right;\">\n",
       "      <th></th>\n",
       "      <th>amount_tsh</th>\n",
       "      <th>gps_height</th>\n",
       "      <th>longitude</th>\n",
       "      <th>latitude</th>\n",
       "      <th>population</th>\n",
       "      <th>construction_year</th>\n",
       "      <th>region_code</th>\n",
       "      <th>district_code</th>\n",
       "      <th>public_meeting</th>\n",
       "      <th>permit</th>\n",
       "      <th>...</th>\n",
       "      <th>source_spring</th>\n",
       "      <th>source_unknown</th>\n",
       "      <th>source_class_surface</th>\n",
       "      <th>source_class_unknown</th>\n",
       "      <th>waterpoint_type_communal standpipe</th>\n",
       "      <th>waterpoint_type_communal standpipe multiple</th>\n",
       "      <th>waterpoint_type_dam</th>\n",
       "      <th>waterpoint_type_hand pump</th>\n",
       "      <th>waterpoint_type_improved spring</th>\n",
       "      <th>waterpoint_type_other</th>\n",
       "    </tr>\n",
       "  </thead>\n",
       "  <tbody>\n",
       "    <tr>\n",
       "      <th>0</th>\n",
       "      <td>6000.0</td>\n",
       "      <td>1390</td>\n",
       "      <td>34.938093</td>\n",
       "      <td>-9.856322</td>\n",
       "      <td>109</td>\n",
       "      <td>1999</td>\n",
       "      <td>11</td>\n",
       "      <td>5</td>\n",
       "      <td>True</td>\n",
       "      <td>False</td>\n",
       "      <td>...</td>\n",
       "      <td>1</td>\n",
       "      <td>0</td>\n",
       "      <td>0</td>\n",
       "      <td>0</td>\n",
       "      <td>1</td>\n",
       "      <td>0</td>\n",
       "      <td>0</td>\n",
       "      <td>0</td>\n",
       "      <td>0</td>\n",
       "      <td>0</td>\n",
       "    </tr>\n",
       "    <tr>\n",
       "      <th>1</th>\n",
       "      <td>0.0</td>\n",
       "      <td>1399</td>\n",
       "      <td>34.698766</td>\n",
       "      <td>-2.147466</td>\n",
       "      <td>280</td>\n",
       "      <td>2010</td>\n",
       "      <td>20</td>\n",
       "      <td>2</td>\n",
       "      <td>True</td>\n",
       "      <td>True</td>\n",
       "      <td>...</td>\n",
       "      <td>0</td>\n",
       "      <td>0</td>\n",
       "      <td>1</td>\n",
       "      <td>0</td>\n",
       "      <td>1</td>\n",
       "      <td>0</td>\n",
       "      <td>0</td>\n",
       "      <td>0</td>\n",
       "      <td>0</td>\n",
       "      <td>0</td>\n",
       "    </tr>\n",
       "    <tr>\n",
       "      <th>2</th>\n",
       "      <td>25.0</td>\n",
       "      <td>686</td>\n",
       "      <td>37.460664</td>\n",
       "      <td>-3.821329</td>\n",
       "      <td>250</td>\n",
       "      <td>2009</td>\n",
       "      <td>21</td>\n",
       "      <td>4</td>\n",
       "      <td>True</td>\n",
       "      <td>True</td>\n",
       "      <td>...</td>\n",
       "      <td>0</td>\n",
       "      <td>0</td>\n",
       "      <td>1</td>\n",
       "      <td>0</td>\n",
       "      <td>0</td>\n",
       "      <td>1</td>\n",
       "      <td>0</td>\n",
       "      <td>0</td>\n",
       "      <td>0</td>\n",
       "      <td>0</td>\n",
       "    </tr>\n",
       "    <tr>\n",
       "      <th>3</th>\n",
       "      <td>0.0</td>\n",
       "      <td>263</td>\n",
       "      <td>38.486161</td>\n",
       "      <td>-11.155298</td>\n",
       "      <td>58</td>\n",
       "      <td>1986</td>\n",
       "      <td>90</td>\n",
       "      <td>63</td>\n",
       "      <td>True</td>\n",
       "      <td>True</td>\n",
       "      <td>...</td>\n",
       "      <td>0</td>\n",
       "      <td>0</td>\n",
       "      <td>0</td>\n",
       "      <td>0</td>\n",
       "      <td>0</td>\n",
       "      <td>1</td>\n",
       "      <td>0</td>\n",
       "      <td>0</td>\n",
       "      <td>0</td>\n",
       "      <td>0</td>\n",
       "    </tr>\n",
       "    <tr>\n",
       "      <th>4</th>\n",
       "      <td>0.0</td>\n",
       "      <td>0</td>\n",
       "      <td>31.130847</td>\n",
       "      <td>-1.825359</td>\n",
       "      <td>0</td>\n",
       "      <td>0</td>\n",
       "      <td>18</td>\n",
       "      <td>1</td>\n",
       "      <td>True</td>\n",
       "      <td>True</td>\n",
       "      <td>...</td>\n",
       "      <td>0</td>\n",
       "      <td>0</td>\n",
       "      <td>1</td>\n",
       "      <td>0</td>\n",
       "      <td>1</td>\n",
       "      <td>0</td>\n",
       "      <td>0</td>\n",
       "      <td>0</td>\n",
       "      <td>0</td>\n",
       "      <td>0</td>\n",
       "    </tr>\n",
       "  </tbody>\n",
       "</table>\n",
       "<p>5 rows × 246 columns</p>\n",
       "</div>"
      ],
      "text/plain": [
       "   amount_tsh  gps_height  longitude   latitude  population  \\\n",
       "0      6000.0        1390  34.938093  -9.856322         109   \n",
       "1         0.0        1399  34.698766  -2.147466         280   \n",
       "2        25.0         686  37.460664  -3.821329         250   \n",
       "3         0.0         263  38.486161 -11.155298          58   \n",
       "4         0.0           0  31.130847  -1.825359           0   \n",
       "\n",
       "   construction_year  region_code  district_code  public_meeting  permit  ...  \\\n",
       "0               1999           11              5            True   False  ...   \n",
       "1               2010           20              2            True    True  ...   \n",
       "2               2009           21              4            True    True  ...   \n",
       "3               1986           90             63            True    True  ...   \n",
       "4                  0           18              1            True    True  ...   \n",
       "\n",
       "   source_spring  source_unknown  source_class_surface  source_class_unknown  \\\n",
       "0              1               0                     0                     0   \n",
       "1              0               0                     1                     0   \n",
       "2              0               0                     1                     0   \n",
       "3              0               0                     0                     0   \n",
       "4              0               0                     1                     0   \n",
       "\n",
       "   waterpoint_type_communal standpipe  \\\n",
       "0                                   1   \n",
       "1                                   1   \n",
       "2                                   0   \n",
       "3                                   0   \n",
       "4                                   1   \n",
       "\n",
       "   waterpoint_type_communal standpipe multiple  waterpoint_type_dam  \\\n",
       "0                                            0                    0   \n",
       "1                                            0                    0   \n",
       "2                                            1                    0   \n",
       "3                                            1                    0   \n",
       "4                                            0                    0   \n",
       "\n",
       "   waterpoint_type_hand pump  waterpoint_type_improved spring  \\\n",
       "0                          0                                0   \n",
       "1                          0                                0   \n",
       "2                          0                                0   \n",
       "3                          0                                0   \n",
       "4                          0                                0   \n",
       "\n",
       "   waterpoint_type_other  \n",
       "0                      0  \n",
       "1                      0  \n",
       "2                      0  \n",
       "3                      0  \n",
       "4                      0  \n",
       "\n",
       "[5 rows x 246 columns]"
      ]
     },
     "execution_count": 11,
     "metadata": {},
     "output_type": "execute_result"
    }
   ],
   "source": [
    "#Preview\n",
    "dfmod.head()"
   ]
  },
  {
   "cell_type": "code",
   "execution_count": 12,
   "metadata": {},
   "outputs": [
    {
     "data": {
      "text/plain": [
       "((44550, 246), (14850, 246), (44550,), (14850,))"
      ]
     },
     "execution_count": 12,
     "metadata": {},
     "output_type": "execute_result"
    }
   ],
   "source": [
    "#Train Test Split\n",
    "X_train, X_test, y_train, y_test = train_test_split(dfmod, target, random_state = 123)\n",
    "X_train.shape, X_test.shape, y_train.shape, y_test.shape"
   ]
  },
  {
   "cell_type": "code",
   "execution_count": 13,
   "metadata": {
    "scrolled": true
   },
   "outputs": [
    {
     "data": {
      "text/html": [
       "<div>\n",
       "<style scoped>\n",
       "    .dataframe tbody tr th:only-of-type {\n",
       "        vertical-align: middle;\n",
       "    }\n",
       "\n",
       "    .dataframe tbody tr th {\n",
       "        vertical-align: top;\n",
       "    }\n",
       "\n",
       "    .dataframe thead th {\n",
       "        text-align: right;\n",
       "    }\n",
       "</style>\n",
       "<table border=\"1\" class=\"dataframe\">\n",
       "  <thead>\n",
       "    <tr style=\"text-align: right;\">\n",
       "      <th></th>\n",
       "      <th>amount_tsh</th>\n",
       "      <th>gps_height</th>\n",
       "      <th>longitude</th>\n",
       "      <th>latitude</th>\n",
       "      <th>population</th>\n",
       "      <th>construction_year</th>\n",
       "      <th>region_code</th>\n",
       "      <th>district_code</th>\n",
       "      <th>public_meeting</th>\n",
       "      <th>permit</th>\n",
       "      <th>...</th>\n",
       "      <th>source_spring</th>\n",
       "      <th>source_unknown</th>\n",
       "      <th>source_class_surface</th>\n",
       "      <th>source_class_unknown</th>\n",
       "      <th>waterpoint_type_communal standpipe</th>\n",
       "      <th>waterpoint_type_communal standpipe multiple</th>\n",
       "      <th>waterpoint_type_dam</th>\n",
       "      <th>waterpoint_type_hand pump</th>\n",
       "      <th>waterpoint_type_improved spring</th>\n",
       "      <th>waterpoint_type_other</th>\n",
       "    </tr>\n",
       "  </thead>\n",
       "  <tbody>\n",
       "    <tr>\n",
       "      <th>0</th>\n",
       "      <td>-0.022712</td>\n",
       "      <td>0.894765</td>\n",
       "      <td>-0.617815</td>\n",
       "      <td>0.471225</td>\n",
       "      <td>0.713149</td>\n",
       "      <td>0.715964</td>\n",
       "      <td>0.043826</td>\n",
       "      <td>-0.376825</td>\n",
       "      <td>0.30638</td>\n",
       "      <td>0.718279</td>\n",
       "      <td>...</td>\n",
       "      <td>-0.636194</td>\n",
       "      <td>-0.034837</td>\n",
       "      <td>1.856250</td>\n",
       "      <td>-0.06882</td>\n",
       "      <td>1.038029</td>\n",
       "      <td>-0.33636</td>\n",
       "      <td>-0.010595</td>\n",
       "      <td>-0.644941</td>\n",
       "      <td>-0.11585</td>\n",
       "      <td>-0.347741</td>\n",
       "    </tr>\n",
       "    <tr>\n",
       "      <th>1</th>\n",
       "      <td>-0.116621</td>\n",
       "      <td>1.252187</td>\n",
       "      <td>-0.462652</td>\n",
       "      <td>-0.609940</td>\n",
       "      <td>-0.376516</td>\n",
       "      <td>0.728575</td>\n",
       "      <td>-0.013390</td>\n",
       "      <td>-0.272579</td>\n",
       "      <td>0.30638</td>\n",
       "      <td>-1.392216</td>\n",
       "      <td>...</td>\n",
       "      <td>-0.636194</td>\n",
       "      <td>-0.034837</td>\n",
       "      <td>-0.538721</td>\n",
       "      <td>-0.06882</td>\n",
       "      <td>-0.963364</td>\n",
       "      <td>-0.33636</td>\n",
       "      <td>-0.010595</td>\n",
       "      <td>1.550529</td>\n",
       "      <td>-0.11585</td>\n",
       "      <td>-0.347741</td>\n",
       "    </tr>\n",
       "    <tr>\n",
       "      <th>2</th>\n",
       "      <td>-0.127056</td>\n",
       "      <td>1.484223</td>\n",
       "      <td>0.252646</td>\n",
       "      <td>-0.765700</td>\n",
       "      <td>-0.376516</td>\n",
       "      <td>0.742236</td>\n",
       "      <td>-0.242257</td>\n",
       "      <td>-0.481072</td>\n",
       "      <td>0.30638</td>\n",
       "      <td>0.718279</td>\n",
       "      <td>...</td>\n",
       "      <td>-0.636194</td>\n",
       "      <td>-0.034837</td>\n",
       "      <td>-0.538721</td>\n",
       "      <td>-0.06882</td>\n",
       "      <td>-0.963364</td>\n",
       "      <td>-0.33636</td>\n",
       "      <td>-0.010595</td>\n",
       "      <td>1.550529</td>\n",
       "      <td>-0.11585</td>\n",
       "      <td>-0.347741</td>\n",
       "    </tr>\n",
       "    <tr>\n",
       "      <th>3</th>\n",
       "      <td>-0.127056</td>\n",
       "      <td>-0.965849</td>\n",
       "      <td>-0.332504</td>\n",
       "      <td>0.808518</td>\n",
       "      <td>-0.378616</td>\n",
       "      <td>-1.366906</td>\n",
       "      <td>0.101043</td>\n",
       "      <td>-0.064085</td>\n",
       "      <td>0.30638</td>\n",
       "      <td>0.718279</td>\n",
       "      <td>...</td>\n",
       "      <td>-0.636194</td>\n",
       "      <td>-0.034837</td>\n",
       "      <td>-0.538721</td>\n",
       "      <td>-0.06882</td>\n",
       "      <td>-0.963364</td>\n",
       "      <td>-0.33636</td>\n",
       "      <td>-0.010595</td>\n",
       "      <td>1.550529</td>\n",
       "      <td>-0.11585</td>\n",
       "      <td>-0.347741</td>\n",
       "    </tr>\n",
       "    <tr>\n",
       "      <th>4</th>\n",
       "      <td>0.499004</td>\n",
       "      <td>-0.431156</td>\n",
       "      <td>0.500722</td>\n",
       "      <td>-1.953200</td>\n",
       "      <td>-0.376516</td>\n",
       "      <td>0.742236</td>\n",
       "      <td>-0.299473</td>\n",
       "      <td>-0.481072</td>\n",
       "      <td>0.30638</td>\n",
       "      <td>-1.392216</td>\n",
       "      <td>...</td>\n",
       "      <td>-0.636194</td>\n",
       "      <td>-0.034837</td>\n",
       "      <td>-0.538721</td>\n",
       "      <td>-0.06882</td>\n",
       "      <td>-0.963364</td>\n",
       "      <td>-0.33636</td>\n",
       "      <td>-0.010595</td>\n",
       "      <td>1.550529</td>\n",
       "      <td>-0.11585</td>\n",
       "      <td>-0.347741</td>\n",
       "    </tr>\n",
       "  </tbody>\n",
       "</table>\n",
       "<p>5 rows × 246 columns</p>\n",
       "</div>"
      ],
      "text/plain": [
       "   amount_tsh  gps_height  longitude  latitude  population  construction_year  \\\n",
       "0   -0.022712    0.894765  -0.617815  0.471225    0.713149           0.715964   \n",
       "1   -0.116621    1.252187  -0.462652 -0.609940   -0.376516           0.728575   \n",
       "2   -0.127056    1.484223   0.252646 -0.765700   -0.376516           0.742236   \n",
       "3   -0.127056   -0.965849  -0.332504  0.808518   -0.378616          -1.366906   \n",
       "4    0.499004   -0.431156   0.500722 -1.953200   -0.376516           0.742236   \n",
       "\n",
       "   region_code  district_code  public_meeting    permit  ...  source_spring  \\\n",
       "0     0.043826      -0.376825         0.30638  0.718279  ...      -0.636194   \n",
       "1    -0.013390      -0.272579         0.30638 -1.392216  ...      -0.636194   \n",
       "2    -0.242257      -0.481072         0.30638  0.718279  ...      -0.636194   \n",
       "3     0.101043      -0.064085         0.30638  0.718279  ...      -0.636194   \n",
       "4    -0.299473      -0.481072         0.30638 -1.392216  ...      -0.636194   \n",
       "\n",
       "   source_unknown  source_class_surface  source_class_unknown  \\\n",
       "0       -0.034837              1.856250              -0.06882   \n",
       "1       -0.034837             -0.538721              -0.06882   \n",
       "2       -0.034837             -0.538721              -0.06882   \n",
       "3       -0.034837             -0.538721              -0.06882   \n",
       "4       -0.034837             -0.538721              -0.06882   \n",
       "\n",
       "   waterpoint_type_communal standpipe  \\\n",
       "0                            1.038029   \n",
       "1                           -0.963364   \n",
       "2                           -0.963364   \n",
       "3                           -0.963364   \n",
       "4                           -0.963364   \n",
       "\n",
       "   waterpoint_type_communal standpipe multiple  waterpoint_type_dam  \\\n",
       "0                                     -0.33636            -0.010595   \n",
       "1                                     -0.33636            -0.010595   \n",
       "2                                     -0.33636            -0.010595   \n",
       "3                                     -0.33636            -0.010595   \n",
       "4                                     -0.33636            -0.010595   \n",
       "\n",
       "   waterpoint_type_hand pump  waterpoint_type_improved spring  \\\n",
       "0                  -0.644941                         -0.11585   \n",
       "1                   1.550529                         -0.11585   \n",
       "2                   1.550529                         -0.11585   \n",
       "3                   1.550529                         -0.11585   \n",
       "4                   1.550529                         -0.11585   \n",
       "\n",
       "   waterpoint_type_other  \n",
       "0              -0.347741  \n",
       "1              -0.347741  \n",
       "2              -0.347741  \n",
       "3              -0.347741  \n",
       "4              -0.347741  \n",
       "\n",
       "[5 rows x 246 columns]"
      ]
     },
     "execution_count": 13,
     "metadata": {},
     "output_type": "execute_result"
    }
   ],
   "source": [
    "#Instantial StandardScaler\n",
    "scaler = StandardScaler()\n",
    "\n",
    "#Transform the train and test sets\n",
    "X_train = scaler.fit_transform(X_train)\n",
    "X_test = scaler.transform(X_test)\n",
    "\n",
    "#Convert to DataFrae\n",
    "X_train = pd.DataFrame(X_train, columns = dfmod.columns)\n",
    "X_train.head()"
   ]
  },
  {
   "cell_type": "markdown",
   "metadata": {},
   "source": [
    "### KNN"
   ]
  },
  {
   "cell_type": "code",
   "execution_count": 14,
   "metadata": {},
   "outputs": [
    {
     "data": {
      "text/plain": [
       "KNeighborsClassifier()"
      ]
     },
     "execution_count": 14,
     "metadata": {},
     "output_type": "execute_result"
    }
   ],
   "source": [
    "#Instantiate Classifier\n",
    "KNN = KNeighborsClassifier()\n",
    "\n",
    "#Fit model\n",
    "KNN.fit(X_train, y_train)"
   ]
  },
  {
   "cell_type": "code",
   "execution_count": 15,
   "metadata": {},
   "outputs": [],
   "source": [
    "#Predict\n",
    "train_pred = KNN.predict(X_train)\n",
    "test_pred = KNN.predict(X_test)"
   ]
  },
  {
   "cell_type": "code",
   "execution_count": 16,
   "metadata": {},
   "outputs": [
    {
     "name": "stdout",
     "output_type": "stream",
     "text": [
      "Training Accuracy: 82.94%\n",
      "Test Accuracy:     76.32%\n",
      "\n",
      " Classification Report: \n",
      "                          precision    recall  f1-score   support\n",
      "\n",
      "             functional       0.77      0.85      0.81      7963\n",
      "functional needs repair       0.47      0.33      0.39      1076\n",
      "         non functional       0.80      0.72      0.76      5811\n",
      "\n",
      "               accuracy                           0.76     14850\n",
      "              macro avg       0.68      0.63      0.65     14850\n",
      "           weighted avg       0.76      0.76      0.76     14850\n",
      "\n"
     ]
    }
   ],
   "source": [
    "#Compare Accuracy Scores\n",
    "accuracy_comp(y_train, train_pred, y_test, test_pred)\n",
    "\n",
    "#Print Classification Report\n",
    "print('\\n Classification Report: \\n', classification_report(y_test, test_pred))"
   ]
  },
  {
   "cell_type": "code",
   "execution_count": 17,
   "metadata": {},
   "outputs": [
    {
     "data": {
      "text/plain": [
       "<sklearn.metrics._plot.confusion_matrix.ConfusionMatrixDisplay at 0x2152a86e0a0>"
      ]
     },
     "execution_count": 17,
     "metadata": {},
     "output_type": "execute_result"
    },
    {
     "data": {
      "image/png": "[encoded data removed]",
      "text/plain": [
       "<Figure size 432x288 with 2 Axes>"
      ]
     },
     "metadata": {
      "needs_background": "light"
     },
     "output_type": "display_data"
    }
   ],
   "source": [
    "#Plot a confusion matrix\n",
    "plot_confusion_matrix(KNN, X_test, y_test);"
   ]
  },
  {
   "cell_type": "markdown",
   "metadata": {},
   "source": [
    "### Random Forest"
   ]
  },
  {
   "cell_type": "code",
   "execution_count": 19,
   "metadata": {},
   "outputs": [],
   "source": [
    "#Instantiate RandomForest Classifier\n",
    "forest = RandomForestClassifier()"
   ]
  },
  {
   "cell_type": "code",
   "execution_count": 33,
   "metadata": {},
   "outputs": [
    {
     "data": {
      "text/plain": [
       "GridSearchCV(cv=3,\n",
       "             estimator=RandomForestClassifier(criterion='entropy', max_depth=10,\n",
       "                                              min_samples_leaf=2,\n",
       "                                              min_samples_split=5),\n",
       "             param_grid={'criterion': ['gini', 'entropy'],\n",
       "                         'max_depth': [3, 4, 5, 6], 'min_samples_leaf': [2, 5],\n",
       "                         'min_samples_split': [2, 5, 10],\n",
       "                         'n_estimators': [100, 200, 500]})"
      ]
     },
     "execution_count": 33,
     "metadata": {},
     "output_type": "execute_result"
    }
   ],
   "source": [
    "#Use GridSerchCV to determine best parameters\n",
    "rf_param_grid = {'n_estimators': [100, 200, 500],\n",
    "    'criterion': ['gini', 'entropy'],\n",
    "    'max_depth': [3, 4, 5, 6],\n",
    "    'min_samples_split': [2, 5, 10],\n",
    "    'min_samples_leaf': [2, 5] }\n",
    "\n",
    "#Instantiate GridSearchCV\n",
    "rf_grid_search = GridSearchCV(forest, rf_param_grid, cv = 3)\n",
    "\n",
    "#Fit to the data\n",
    "rf_grid_search.fit(X_train, y_train)"
   ]
  },
  {
   "cell_type": "code",
   "execution_count": 34,
   "metadata": {},
   "outputs": [
    {
     "name": "stdout",
     "output_type": "stream",
     "text": [
      "{'criterion': 'entropy', 'max_depth': 6, 'min_samples_leaf': 2, 'min_samples_split': 5, 'n_estimators': 100}\n"
     ]
    }
   ],
   "source": [
    "#Check best params\n",
    "print(rf_grid_search.best_params_)"
   ]
  },
  {
   "cell_type": "code",
   "execution_count": 21,
   "metadata": {},
   "outputs": [
    {
     "name": "stdout",
     "output_type": "stream",
     "text": [
      "{'criterion': 'entropy', 'max_depth': 10, 'min_samples_leaf': 2, 'min_samples_split': 5, 'n_estimators': 100}\n"
     ]
    }
   ],
   "source": [
    "#Check best params\n",
    "print(rf_grid_search.best_params_)\n",
    "#{'criterion': 'entropy', 'max_depth': 10, 'min_samples_leaf': 2, 'min_samples_split': 5, 'n_estimators': 100}"
   ]
  },
  {
   "cell_type": "code",
   "execution_count": 23,
   "metadata": {},
   "outputs": [],
   "source": [
    "#Instantiate and train RandomForest with the determined params\n",
    "forest = RandomForestClassifier(n_estimators = 100, criterion = 'entropy', max_depth = 10, \n",
    "                                min_samples_leaf = 2, min_samples_split = 5)\n",
    "forest.fit(X_train, y_train)\n",
    "\n",
    "#Predict train and test sets\n",
    "train_pred = forest.predict(X_train)\n",
    "test_pred = forest.predict(X_test)"
   ]
  },
  {
   "cell_type": "code",
   "execution_count": 24,
   "metadata": {},
   "outputs": [
    {
     "name": "stdout",
     "output_type": "stream",
     "text": [
      "Training Accuracy: 72.98%\n",
      "Test Accuracy:     71.98%\n",
      "\n",
      " Classification Report: \n",
      "                          precision    recall  f1-score   support\n",
      "\n",
      "             functional       0.68      0.95      0.79      7963\n",
      "functional needs repair       0.65      0.08      0.14      1076\n",
      "         non functional       0.85      0.53      0.65      5811\n",
      "\n",
      "               accuracy                           0.72     14850\n",
      "              macro avg       0.72      0.52      0.53     14850\n",
      "           weighted avg       0.74      0.72      0.69     14850\n",
      "\n"
     ]
    }
   ],
   "source": [
    "#Check accuracy score and classification report\n",
    "accuracy_comp(y_train, train_pred, y_test, test_pred)\n",
    "print('\\n Classification Report: \\n', classification_report(y_test, test_pred))"
   ]
  },
  {
   "cell_type": "markdown",
   "metadata": {},
   "source": [
    "### Model Tuning"
   ]
  },
  {
   "cell_type": "markdown",
   "metadata": {},
   "source": [
    "#### 1. Addressing Class Imbalance using SMOTE"
   ]
  },
  {
   "cell_type": "code",
   "execution_count": 25,
   "metadata": {},
   "outputs": [],
   "source": [
    "#Instantiate and train\n",
    "smote = SMOTE()\n",
    "\n",
    "X_smote, y_smote = smote.fit_sample(X_train, y_train)"
   ]
  },
  {
   "cell_type": "code",
   "execution_count": 26,
   "metadata": {},
   "outputs": [],
   "source": [
    "#New Train/test split\n",
    "X_train, X_test, y_train, y_test = train_test_split(X_smote, y_smote, random_state = 123)"
   ]
  },
  {
   "cell_type": "code",
   "execution_count": 30,
   "metadata": {},
   "outputs": [],
   "source": [
    "#New Model\n",
    "forest2 = RandomForestClassifier(n_estimators = 100, criterion = 'entropy', max_depth = 10, \n",
    "                                min_samples_leaf = 2, min_samples_split = 5)\n",
    "forest2.fit(X_train, y_train)\n",
    "\n",
    "#Predict train and test sets\n",
    "train_pred = forest2.predict(X_train)\n",
    "test_pred = forest2.predict(X_test)"
   ]
  },
  {
   "cell_type": "code",
   "execution_count": 31,
   "metadata": {},
   "outputs": [
    {
     "name": "stdout",
     "output_type": "stream",
     "text": [
      "Training Accuracy: 73.77%\n",
      "Test Accuracy:     72.53%\n",
      "\n",
      " Classification Report: \n",
      "                          precision    recall  f1-score   support\n",
      "\n",
      "             functional       0.68      0.69      0.69      6104\n",
      "functional needs repair       0.70      0.85      0.77      6021\n",
      "         non functional       0.82      0.64      0.72      6097\n",
      "\n",
      "               accuracy                           0.73     18222\n",
      "              macro avg       0.73      0.73      0.72     18222\n",
      "           weighted avg       0.73      0.73      0.72     18222\n",
      "\n"
     ]
    }
   ],
   "source": [
    "#Verify accuracy and classification report\n",
    "accuracy_comp(y_train, train_pred, y_test, test_pred)\n",
    "print('\\n Classification Report: \\n', classification_report(y_test, test_pred))"
   ]
  },
  {
   "cell_type": "markdown",
   "metadata": {},
   "source": [
    "#### 2. Feature Measurement"
   ]
  },
  {
   "cell_type": "code",
   "execution_count": 32,
   "metadata": {},
   "outputs": [
    {
     "data": {
      "image/png": "[encoded data removed]",
      "text/plain": [
       "<Figure size 1440x1440 with 1 Axes>"
      ]
     },
     "metadata": {
      "needs_background": "light"
     },
     "output_type": "display_data"
    }
   ],
   "source": [
    "#Check the most important features in the RandomForest model\n",
    "features = pd.Series(forest2.feature_importances_, index=dfmod.columns)\n",
    "features.nlargest(35).sort_values().plot(kind='barh',figsize=(20,20), edgecolor = 'black',\n",
    "                                                         color = 'royalblue', alpha = .8)\n",
    "\n",
    "plt.yticks(fontsize = 16)\n",
    "plt.xticks(fontsize = 16)\n",
    "plt.xlabel('\\nFeature Importance for Random Forest Classifier', fontsize = 18)\n",
    "\n",
    "plt.title(\"Random Forest Feature Importance\\n\", fontsize = 20, fontweight = 'bold');"
   ]
  },
  {
   "cell_type": "markdown",
   "metadata": {},
   "source": []
  },
  {
   "cell_type": "code",
   "execution_count": null,
   "metadata": {},
   "outputs": [],
   "source": []
  },
  {
   "cell_type": "code",
   "execution_count": null,
   "metadata": {},
   "outputs": [],
   "source": []
  }
 ],
 "metadata": {
  "kernelspec": {
   "display_name": "dsc_flat",
   "language": "python",
   "name": "dsc_flat"
  },
  "language_info": {
   "codemirror_mode": {
    "name": "ipython",
    "version": 3
   },
   "file_extension": ".py",
   "mimetype": "text/x-python",
   "name": "python",
   "nbconvert_exporter": "python",
   "pygments_lexer": "ipython3",
   "version": "3.8.5"
  }
 },
 "nbformat": 4,
 "nbformat_minor": 4
}